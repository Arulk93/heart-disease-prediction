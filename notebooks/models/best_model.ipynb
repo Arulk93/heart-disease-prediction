{
 "cells": [
  {
   "cell_type": "code",
   "execution_count": 54,
   "id": "9ecb8fb8-6cc1-48f4-bad5-9710c149e11b",
   "metadata": {},
   "outputs": [],
   "source": [
    "# Importing necessary libraries\n",
    "import pandas as pd\n",
    "import numpy as np\n",
    "import joblib\n",
    "import matplotlib.pyplot as plt\n",
    "import seaborn as sns\n",
    "import os\n",
    "\n",
    "# For machine learning\n",
    "from sklearn.model_selection import train_test_split, GridSearchCV\n",
    "from sklearn.preprocessing import StandardScaler\n",
    "from sklearn.ensemble import RandomForestClassifier\n",
    "from sklearn.svm import SVC\n",
    "from sklearn.metrics import accuracy_score, classification_report, confusion_matrix\n"
   ]
  },
  {
   "cell_type": "code",
   "execution_count": 55,
   "id": "de8e95d9-eab4-424e-8f2b-b1c3c340dd3b",
   "metadata": {},
   "outputs": [],
   "source": [
    "df = pd.read_csv(\"../../data/heart_disease.csv\")"
   ]
  },
  {
   "cell_type": "code",
   "execution_count": 56,
   "id": "d31cc117-f34e-4ca6-9c39-15de9c52e551",
   "metadata": {},
   "outputs": [
    {
     "data": {
      "text/html": [
       "<div>\n",
       "<style scoped>\n",
       "    .dataframe tbody tr th:only-of-type {\n",
       "        vertical-align: middle;\n",
       "    }\n",
       "\n",
       "    .dataframe tbody tr th {\n",
       "        vertical-align: top;\n",
       "    }\n",
       "\n",
       "    .dataframe thead th {\n",
       "        text-align: right;\n",
       "    }\n",
       "</style>\n",
       "<table border=\"1\" class=\"dataframe\">\n",
       "  <thead>\n",
       "    <tr style=\"text-align: right;\">\n",
       "      <th></th>\n",
       "      <th>Age</th>\n",
       "      <th>Sex</th>\n",
       "      <th>ChestPainType</th>\n",
       "      <th>RestingBP</th>\n",
       "      <th>Cholesterol</th>\n",
       "      <th>FastingBS</th>\n",
       "      <th>RestingECG</th>\n",
       "      <th>MaxHR</th>\n",
       "      <th>ExerciseAngina</th>\n",
       "      <th>Oldpeak</th>\n",
       "      <th>ST_Slope</th>\n",
       "      <th>HeartDisease</th>\n",
       "    </tr>\n",
       "  </thead>\n",
       "  <tbody>\n",
       "    <tr>\n",
       "      <th>0</th>\n",
       "      <td>40</td>\n",
       "      <td>M</td>\n",
       "      <td>ATA</td>\n",
       "      <td>140</td>\n",
       "      <td>289</td>\n",
       "      <td>0</td>\n",
       "      <td>Normal</td>\n",
       "      <td>172</td>\n",
       "      <td>N</td>\n",
       "      <td>0.0</td>\n",
       "      <td>Up</td>\n",
       "      <td>0</td>\n",
       "    </tr>\n",
       "    <tr>\n",
       "      <th>1</th>\n",
       "      <td>49</td>\n",
       "      <td>F</td>\n",
       "      <td>NAP</td>\n",
       "      <td>160</td>\n",
       "      <td>180</td>\n",
       "      <td>0</td>\n",
       "      <td>Normal</td>\n",
       "      <td>156</td>\n",
       "      <td>N</td>\n",
       "      <td>1.0</td>\n",
       "      <td>Flat</td>\n",
       "      <td>1</td>\n",
       "    </tr>\n",
       "    <tr>\n",
       "      <th>2</th>\n",
       "      <td>37</td>\n",
       "      <td>M</td>\n",
       "      <td>ATA</td>\n",
       "      <td>130</td>\n",
       "      <td>283</td>\n",
       "      <td>0</td>\n",
       "      <td>ST</td>\n",
       "      <td>98</td>\n",
       "      <td>N</td>\n",
       "      <td>0.0</td>\n",
       "      <td>Up</td>\n",
       "      <td>0</td>\n",
       "    </tr>\n",
       "    <tr>\n",
       "      <th>3</th>\n",
       "      <td>48</td>\n",
       "      <td>F</td>\n",
       "      <td>ASY</td>\n",
       "      <td>138</td>\n",
       "      <td>214</td>\n",
       "      <td>0</td>\n",
       "      <td>Normal</td>\n",
       "      <td>108</td>\n",
       "      <td>Y</td>\n",
       "      <td>1.5</td>\n",
       "      <td>Flat</td>\n",
       "      <td>1</td>\n",
       "    </tr>\n",
       "    <tr>\n",
       "      <th>4</th>\n",
       "      <td>54</td>\n",
       "      <td>M</td>\n",
       "      <td>NAP</td>\n",
       "      <td>150</td>\n",
       "      <td>195</td>\n",
       "      <td>0</td>\n",
       "      <td>Normal</td>\n",
       "      <td>122</td>\n",
       "      <td>N</td>\n",
       "      <td>0.0</td>\n",
       "      <td>Up</td>\n",
       "      <td>0</td>\n",
       "    </tr>\n",
       "  </tbody>\n",
       "</table>\n",
       "</div>"
      ],
      "text/plain": [
       "   Age Sex ChestPainType  RestingBP  Cholesterol  FastingBS RestingECG  MaxHR  \\\n",
       "0   40   M           ATA        140          289          0     Normal    172   \n",
       "1   49   F           NAP        160          180          0     Normal    156   \n",
       "2   37   M           ATA        130          283          0         ST     98   \n",
       "3   48   F           ASY        138          214          0     Normal    108   \n",
       "4   54   M           NAP        150          195          0     Normal    122   \n",
       "\n",
       "  ExerciseAngina  Oldpeak ST_Slope  HeartDisease  \n",
       "0              N      0.0       Up             0  \n",
       "1              N      1.0     Flat             1  \n",
       "2              N      0.0       Up             0  \n",
       "3              Y      1.5     Flat             1  \n",
       "4              N      0.0       Up             0  "
      ]
     },
     "execution_count": 56,
     "metadata": {},
     "output_type": "execute_result"
    }
   ],
   "source": [
    "# Display first 5 rows\n",
    "df.head()"
   ]
  },
  {
   "cell_type": "code",
   "execution_count": 57,
   "id": "8fcd6c1e-dc5c-4376-a418-f6aeb916dca9",
   "metadata": {},
   "outputs": [
    {
     "name": "stdout",
     "output_type": "stream",
     "text": [
      "<class 'pandas.core.frame.DataFrame'>\n",
      "RangeIndex: 918 entries, 0 to 917\n",
      "Data columns (total 12 columns):\n",
      " #   Column          Non-Null Count  Dtype  \n",
      "---  ------          --------------  -----  \n",
      " 0   Age             918 non-null    int64  \n",
      " 1   Sex             918 non-null    object \n",
      " 2   ChestPainType   918 non-null    object \n",
      " 3   RestingBP       918 non-null    int64  \n",
      " 4   Cholesterol     918 non-null    int64  \n",
      " 5   FastingBS       918 non-null    int64  \n",
      " 6   RestingECG      918 non-null    object \n",
      " 7   MaxHR           918 non-null    int64  \n",
      " 8   ExerciseAngina  918 non-null    object \n",
      " 9   Oldpeak         918 non-null    float64\n",
      " 10  ST_Slope        918 non-null    object \n",
      " 11  HeartDisease    918 non-null    int64  \n",
      "dtypes: float64(1), int64(6), object(5)\n",
      "memory usage: 86.2+ KB\n"
     ]
    }
   ],
   "source": [
    "# check dataset information\n",
    "df.info()"
   ]
  },
  {
   "cell_type": "code",
   "execution_count": 58,
   "id": "f16445f9-91ec-40ff-83c0-6d131d466adf",
   "metadata": {},
   "outputs": [
    {
     "name": "stdout",
     "output_type": "stream",
     "text": [
      "Original Data Size: (918, 12)\n",
      "After Removing Outliers: (701, 12)\n"
     ]
    },
    {
     "data": {
      "text/plain": [
       "['C:\\\\Users\\\\User\\\\heart-disease-prediction\\\\notebooks\\\\models\\\\standard_scaler.pkl']"
      ]
     },
     "execution_count": 58,
     "metadata": {},
     "output_type": "execute_result"
    }
   ],
   "source": [
    "# Identify categorical and numerical columns\n",
    "categorical_columns = df.select_dtypes(include=['object']).columns.tolist()\n",
    "numerical_columns = df.select_dtypes(include=['int64', 'float64']).columns.tolist()\n",
    "\n",
    "# Remove target variable from numerical columns\n",
    "numerical_columns.remove(\"HeartDisease\")  # Assuming 'HeartDisease' is the target variable\n",
    "\n",
    "#Remove Outliers using IQR\n",
    "Q1 = df[numerical_columns].quantile(0.25)\n",
    "Q3 = df[numerical_columns].quantile(0.75)\n",
    "IQR = Q3 - Q1\n",
    "\n",
    "# Define the bounds for outliers\n",
    "lower_bound = Q1 - 3.0 * IQR\n",
    "upper_bound = Q3 + 3.0 * IQR\n",
    "\n",
    "# Detect and remove outliers\n",
    "outlier_mask = ((df[numerical_columns] < lower_bound) | (df[numerical_columns] > upper_bound)).any(axis=1)\n",
    "df_cleaned = df[~outlier_mask]  # Keep only non-outliers\n",
    "\n",
    "print(f\"Original Data Size: {df.shape}\")\n",
    "print(f\"After Removing Outliers: {df_cleaned.shape}\")\n",
    "\n",
    "#One-Hot Encoding \n",
    "df_cleaned = pd.get_dummies(df_cleaned, columns=categorical_columns, drop_first=True)\n",
    "\n",
    "#Standardizing Feature Names Before Scaling\n",
    "df_cleaned.columns = df_cleaned.columns.str.replace(\" \", \"_\").str.replace(\"-\", \"_\").str.lower()\n",
    "\n",
    "#Update numerical_columns to reflect lowercase column names\n",
    "numerical_columns = [col.lower() for col in numerical_columns]\n",
    "\n",
    "### Standard Scaling \n",
    "scaler = StandardScaler()\n",
    "df_cleaned[numerical_columns] = scaler.fit_transform(df_cleaned[numerical_columns])\n",
    "\n",
    "### Convert boolean columns to 0 and 1\n",
    "bool_columns = df_cleaned.select_dtypes(include=['bool']).columns\n",
    "df_cleaned[bool_columns] = df_cleaned[bool_columns].astype(int)\n",
    "\n",
    "### Save Scaler for Future Use\n",
    "models_dir = os.path.abspath(\"../models\")  # Ensure correct path for saving\n",
    "os.makedirs(models_dir, exist_ok=True)\n",
    "\n",
    "joblib.dump(scaler, os.path.join(models_dir, \"standard_scaler.pkl\"))\n",
    "\n"
   ]
  },
  {
   "cell_type": "code",
   "execution_count": 59,
   "id": "cd117f2c-1b54-4022-9e81-1d84127bf56d",
   "metadata": {},
   "outputs": [
    {
     "data": {
      "text/html": [
       "<div>\n",
       "<style scoped>\n",
       "    .dataframe tbody tr th:only-of-type {\n",
       "        vertical-align: middle;\n",
       "    }\n",
       "\n",
       "    .dataframe tbody tr th {\n",
       "        vertical-align: top;\n",
       "    }\n",
       "\n",
       "    .dataframe thead th {\n",
       "        text-align: right;\n",
       "    }\n",
       "</style>\n",
       "<table border=\"1\" class=\"dataframe\">\n",
       "  <thead>\n",
       "    <tr style=\"text-align: right;\">\n",
       "      <th></th>\n",
       "      <th>age</th>\n",
       "      <th>restingbp</th>\n",
       "      <th>cholesterol</th>\n",
       "      <th>fastingbs</th>\n",
       "      <th>maxhr</th>\n",
       "      <th>oldpeak</th>\n",
       "      <th>heartdisease</th>\n",
       "      <th>sex_m</th>\n",
       "      <th>chestpaintype_ata</th>\n",
       "      <th>chestpaintype_nap</th>\n",
       "      <th>chestpaintype_ta</th>\n",
       "      <th>restingecg_normal</th>\n",
       "      <th>restingecg_st</th>\n",
       "      <th>exerciseangina_y</th>\n",
       "      <th>st_slope_flat</th>\n",
       "      <th>st_slope_up</th>\n",
       "    </tr>\n",
       "  </thead>\n",
       "  <tbody>\n",
       "    <tr>\n",
       "      <th>0</th>\n",
       "      <td>-1.310814</td>\n",
       "      <td>0.473910</td>\n",
       "      <td>0.792141</td>\n",
       "      <td>0.0</td>\n",
       "      <td>1.323601</td>\n",
       "      <td>-0.803864</td>\n",
       "      <td>0</td>\n",
       "      <td>1</td>\n",
       "      <td>1</td>\n",
       "      <td>0</td>\n",
       "      <td>0</td>\n",
       "      <td>1</td>\n",
       "      <td>0</td>\n",
       "      <td>0</td>\n",
       "      <td>0</td>\n",
       "      <td>1</td>\n",
       "    </tr>\n",
       "    <tr>\n",
       "      <th>1</th>\n",
       "      <td>-0.362754</td>\n",
       "      <td>1.637114</td>\n",
       "      <td>-0.365423</td>\n",
       "      <td>0.0</td>\n",
       "      <td>0.689719</td>\n",
       "      <td>0.145443</td>\n",
       "      <td>1</td>\n",
       "      <td>0</td>\n",
       "      <td>0</td>\n",
       "      <td>1</td>\n",
       "      <td>0</td>\n",
       "      <td>1</td>\n",
       "      <td>0</td>\n",
       "      <td>0</td>\n",
       "      <td>1</td>\n",
       "      <td>0</td>\n",
       "    </tr>\n",
       "    <tr>\n",
       "      <th>2</th>\n",
       "      <td>-1.626834</td>\n",
       "      <td>-0.107692</td>\n",
       "      <td>0.728422</td>\n",
       "      <td>0.0</td>\n",
       "      <td>-1.608102</td>\n",
       "      <td>-0.803864</td>\n",
       "      <td>0</td>\n",
       "      <td>1</td>\n",
       "      <td>1</td>\n",
       "      <td>0</td>\n",
       "      <td>0</td>\n",
       "      <td>0</td>\n",
       "      <td>1</td>\n",
       "      <td>0</td>\n",
       "      <td>0</td>\n",
       "      <td>1</td>\n",
       "    </tr>\n",
       "    <tr>\n",
       "      <th>3</th>\n",
       "      <td>-0.468094</td>\n",
       "      <td>0.357590</td>\n",
       "      <td>-0.004348</td>\n",
       "      <td>0.0</td>\n",
       "      <td>-1.211926</td>\n",
       "      <td>0.620097</td>\n",
       "      <td>1</td>\n",
       "      <td>0</td>\n",
       "      <td>0</td>\n",
       "      <td>0</td>\n",
       "      <td>0</td>\n",
       "      <td>1</td>\n",
       "      <td>0</td>\n",
       "      <td>1</td>\n",
       "      <td>1</td>\n",
       "      <td>0</td>\n",
       "    </tr>\n",
       "    <tr>\n",
       "      <th>4</th>\n",
       "      <td>0.163946</td>\n",
       "      <td>1.055512</td>\n",
       "      <td>-0.206125</td>\n",
       "      <td>0.0</td>\n",
       "      <td>-0.657279</td>\n",
       "      <td>-0.803864</td>\n",
       "      <td>0</td>\n",
       "      <td>1</td>\n",
       "      <td>0</td>\n",
       "      <td>1</td>\n",
       "      <td>0</td>\n",
       "      <td>1</td>\n",
       "      <td>0</td>\n",
       "      <td>0</td>\n",
       "      <td>0</td>\n",
       "      <td>1</td>\n",
       "    </tr>\n",
       "  </tbody>\n",
       "</table>\n",
       "</div>"
      ],
      "text/plain": [
       "        age  restingbp  cholesterol  fastingbs     maxhr   oldpeak  \\\n",
       "0 -1.310814   0.473910     0.792141        0.0  1.323601 -0.803864   \n",
       "1 -0.362754   1.637114    -0.365423        0.0  0.689719  0.145443   \n",
       "2 -1.626834  -0.107692     0.728422        0.0 -1.608102 -0.803864   \n",
       "3 -0.468094   0.357590    -0.004348        0.0 -1.211926  0.620097   \n",
       "4  0.163946   1.055512    -0.206125        0.0 -0.657279 -0.803864   \n",
       "\n",
       "   heartdisease  sex_m  chestpaintype_ata  chestpaintype_nap  \\\n",
       "0             0      1                  1                  0   \n",
       "1             1      0                  0                  1   \n",
       "2             0      1                  1                  0   \n",
       "3             1      0                  0                  0   \n",
       "4             0      1                  0                  1   \n",
       "\n",
       "   chestpaintype_ta  restingecg_normal  restingecg_st  exerciseangina_y  \\\n",
       "0                 0                  1              0                 0   \n",
       "1                 0                  1              0                 0   \n",
       "2                 0                  0              1                 0   \n",
       "3                 0                  1              0                 1   \n",
       "4                 0                  1              0                 0   \n",
       "\n",
       "   st_slope_flat  st_slope_up  \n",
       "0              0            1  \n",
       "1              1            0  \n",
       "2              0            1  \n",
       "3              1            0  \n",
       "4              0            1  "
      ]
     },
     "execution_count": 59,
     "metadata": {},
     "output_type": "execute_result"
    }
   ],
   "source": [
    "df_cleaned.head()"
   ]
  },
  {
   "cell_type": "code",
   "execution_count": 60,
   "id": "7b3dc389-fb45-4ab8-85e0-5b5299cce41b",
   "metadata": {},
   "outputs": [
    {
     "data": {
      "image/png": "[encoded data removed]",
      "text/plain": [
       "<Figure size 1000x600 with 1 Axes>"
      ]
     },
     "metadata": {},
     "output_type": "display_data"
    },
    {
     "name": "stdout",
     "output_type": "stream",
     "text": [
      "Selected Features: ['st_slope_up', 'maxhr', 'st_slope_flat', 'oldpeak', 'exerciseangina_y', 'age', 'cholesterol', 'restingbp', 'sex_m', 'chestpaintype_ata', 'chestpaintype_nap', 'restingecg_normal', 'chestpaintype_ta', 'restingecg_st', 'fastingbs']\n"
     ]
    }
   ],
   "source": [
    "# Separate features and target variable\n",
    "X = df_cleaned.drop(columns=[\"heartdisease\"])\n",
    "y = df_cleaned[\"heartdisease\"]\n",
    "\n",
    "# Train a RandomForest model\n",
    "rf_model = RandomForestClassifier(n_estimators=100, random_state=42)\n",
    "rf_model.fit(X, y)\n",
    "\n",
    "# Get feature importance scores\n",
    "importances = rf_model.feature_importances_\n",
    "feature_names = X.columns\n",
    "\n",
    "# Create a dataframe for visualization\n",
    "feature_importance_df = pd.DataFrame({\"Feature\": feature_names, \"Importance\": importances})\n",
    "feature_importance_df = feature_importance_df.sort_values(by=\"Importance\", ascending=False)\n",
    "\n",
    "# Plot Feature Importance\n",
    "plt.figure(figsize=(10, 6))\n",
    "plt.barh(feature_importance_df[\"Feature\"], feature_importance_df[\"Importance\"], color=\"royalblue\")\n",
    "plt.xlabel(\"Feature Importance Score\")\n",
    "plt.ylabel(\"Features\")\n",
    "plt.title(\"Random Forest Feature Importance\")\n",
    "plt.gca().invert_yaxis()  # Highest importance at the top\n",
    "plt.show()\n",
    "\n",
    "# Select top features (either by count or threshold)\n",
    "top_n = 15# Select top 10 features\n",
    "selected_features = feature_importance_df.iloc[:top_n][\"Feature\"].tolist()\n",
    "\n",
    "# Print selected features\n",
    "print(\"Selected Features:\", selected_features)\n"
   ]
  },
  {
   "cell_type": "code",
   "execution_count": 61,
   "id": "26c120ec-93f6-4bfb-beed-d22d3d1db5f3",
   "metadata": {},
   "outputs": [
    {
     "data": {
      "text/plain": [
       "['C:\\\\Users\\\\User\\\\heart-disease-prediction\\\\notebooks\\\\models\\\\selected_features.pkl']"
      ]
     },
     "execution_count": 61,
     "metadata": {},
     "output_type": "execute_result"
    }
   ],
   "source": [
    "# Save Selected Features\n",
    "joblib.dump(selected_features, os.path.join(models_dir, \"selected_features.pkl\"))"
   ]
  },
  {
   "cell_type": "code",
   "execution_count": 62,
   "id": "5b00f9c7-06e3-44a7-b6e1-52ffc9fb25a2",
   "metadata": {},
   "outputs": [
    {
     "name": "stdout",
     "output_type": "stream",
     "text": [
      "X_train shape: (560, 15)\n",
      "X_test shape: (141, 15)\n"
     ]
    }
   ],
   "source": [
    "# Keep only selected features\n",
    "X_selected = X[selected_features]\n",
    "\n",
    "# Split into training and testing sets\n",
    "X_train, X_test, y_train, y_test = train_test_split(X_selected, y, test_size=0.2, random_state=42)\n",
    "\n",
    "import numpy as np\n",
    "X_train = np.array(X_train, dtype=np.float32)\n",
    "X_test = np.array(X_test, dtype=np.float32)\n",
    "\n",
    "# Print shape of the new dataset\n",
    "print(\"X_train shape:\", X_train.shape)\n",
    "print(\"X_test shape:\", X_test.shape)\n"
   ]
  },
  {
   "cell_type": "code",
   "execution_count": 63,
   "id": "673bce15-6e1b-4323-9939-245fdf5066e8",
   "metadata": {},
   "outputs": [
    {
     "name": "stdout",
     "output_type": "stream",
     "text": [
      "Fitting 5 folds for each of 162 candidates, totalling 810 fits\n",
      "Best Parameters: {'bootstrap': True, 'max_depth': 10, 'min_samples_leaf': 1, 'min_samples_split': 5, 'n_estimators': 300}\n",
      "Random Forest Accuracy: 0.900709219858156\n",
      "\n",
      "Classification Report:\n",
      "               precision    recall  f1-score   support\n",
      "\n",
      "           0       0.91      0.88      0.90        68\n",
      "           1       0.89      0.92      0.91        73\n",
      "\n",
      "    accuracy                           0.90       141\n",
      "   macro avg       0.90      0.90      0.90       141\n",
      "weighted avg       0.90      0.90      0.90       141\n",
      "\n"
     ]
    },
    {
     "data": {
      "image/png": "[encoded data removed]",
      "text/plain": [
       "<Figure size 500x400 with 2 Axes>"
      ]
     },
     "metadata": {},
     "output_type": "display_data"
    }
   ],
   "source": [
    "from sklearn.ensemble import RandomForestClassifier\n",
    "from sklearn.model_selection import GridSearchCV\n",
    "from sklearn.metrics import accuracy_score, classification_report\n",
    "\n",
    "# Define parameter grid\n",
    "param_grid = {\n",
    "    'n_estimators': [100, 200, 300],  # Number of trees\n",
    "    'max_depth': [None, 10, 20],  # Maximum depth of trees\n",
    "    'min_samples_split': [2, 5, 10],  # Minimum samples to split\n",
    "    'min_samples_leaf': [1, 2, 4],  # Minimum samples per leaf\n",
    "    'bootstrap': [True, False]  # Whether to bootstrap samples\n",
    "}\n",
    "\n",
    "# Initialize the model\n",
    "rf_model = RandomForestClassifier(random_state=42)\n",
    "\n",
    "# Perform Grid Search\n",
    "grid_search_rf = GridSearchCV(rf_model, param_grid, cv=5, scoring=\"accuracy\", verbose=1, n_jobs=-1)\n",
    "grid_search_rf.fit(X_train, y_train)\n",
    "\n",
    "# Get best estimator\n",
    "best_rf = grid_search_rf.best_estimator_\n",
    "print(\"Best Parameters:\", grid_search_rf.best_params_)\n",
    "\n",
    "# Make predictions\n",
    "y_pred_rf = best_rf.predict(X_test)\n",
    "\n",
    "# Evaluate performance\n",
    "print(\"Random Forest Accuracy:\", accuracy_score(y_test, y_pred_rf))\n",
    "print(\"\\nClassification Report:\\n\", classification_report(y_test, y_pred_rf))\n",
    "\n",
    "# Display Confusion Matrix\n",
    "plt.figure(figsize=(5, 4))\n",
    "sns.heatmap(confusion_matrix(y_test, y_pred_rf), annot=True, fmt=\"d\", cmap=\"Blues\")\n",
    "plt.xlabel(\"Predicted\")\n",
    "plt.ylabel(\"Actual\")\n",
    "plt.title(\"Confusion Matrix\")\n",
    "plt.show()\n"
   ]
  },
  {
   "cell_type": "code",
   "execution_count": 64,
   "id": "8e8d84b8-e878-4ffe-ae79-d505fb1223d3",
   "metadata": {},
   "outputs": [
    {
     "name": "stdout",
     "output_type": "stream",
     "text": [
      "<class 'sklearn.ensemble._forest.RandomForestClassifier'>\n"
     ]
    }
   ],
   "source": [
    "print(type(best_rf))\n"
   ]
  },
  {
   "cell_type": "code",
   "execution_count": 65,
   "id": "58d75de0-ca50-41ce-82b8-adf3e586b16b",
   "metadata": {},
   "outputs": [
    {
     "data": {
      "text/plain": [
       "['C:\\\\Users\\\\User\\\\heart-disease-prediction\\\\notebooks\\\\models\\\\best_rf_model.pkl']"
      ]
     },
     "execution_count": 65,
     "metadata": {},
     "output_type": "execute_result"
    }
   ],
   "source": [
    "# Save the Best Model\n",
    "joblib.dump(best_rf, os.path.join(models_dir, \"best_rf_model.pkl\"))"
   ]
  },
  {
   "cell_type": "code",
   "execution_count": 66,
   "id": "4076e23e-d283-48b6-8c50-73948dc20b1b",
   "metadata": {},
   "outputs": [
    {
     "name": "stdout",
     "output_type": "stream",
     "text": [
      "Selected Features in Model: ['st_slope_up', 'maxhr', 'st_slope_flat', 'oldpeak', 'exerciseangina_y', 'age', 'cholesterol', 'restingbp', 'sex_m', 'chestpaintype_ata', 'chestpaintype_nap', 'restingecg_normal', 'chestpaintype_ta', 'restingecg_st', 'fastingbs']\n"
     ]
    }
   ],
   "source": [
    "print(\"Selected Features in Model:\", selected_features)"
   ]
  },
  {
   "cell_type": "code",
   "execution_count": 73,
   "id": "7907513e-9b3f-4a42-a739-a72a1b33013a",
   "metadata": {},
   "outputs": [
    {
     "name": "stdout",
     "output_type": "stream",
     "text": [
      "Expected Features from Training: ['st_slope_up', 'maxhr', 'st_slope_flat', 'oldpeak', 'exerciseangina_y', 'age', 'cholesterol', 'restingbp', 'sex_m', 'chestpaintype_ata', 'chestpaintype_nap', 'restingecg_normal', 'chestpaintype_ta', 'restingecg_st', 'fastingbs']\n"
     ]
    }
   ],
   "source": [
    "print(\"Expected Features from Training:\", selected_features)\n",
    "\n"
   ]
  },
  {
   "cell_type": "code",
   "execution_count": 74,
   "id": "584384b6-16e4-4a7b-8364-1697589911e4",
   "metadata": {},
   "outputs": [
    {
     "name": "stdout",
     "output_type": "stream",
     "text": [
      "Prediction: 1\n",
      "Probability: [0.38678199 0.61321801]\n"
     ]
    }
   ],
   "source": [
    "import pandas as pd\n",
    "import numpy as np\n",
    "import joblib\n",
    "\n",
    "# Load the trained model\n",
    "model_path = \"best_rf_model.pkl\"\n",
    "model = joblib.load(model_path)\n",
    "\n",
    "# Create a sample test input with ALL expected features\n",
    "sample_input = pd.DataFrame([[1, 150, 0, 2.3, 1, 63, 233, 145, 1, 0, 0, 1, 0, 1, 0]], \n",
    "                            columns=['st_slope_up', 'maxhr', 'st_slope_flat', 'oldpeak', \n",
    "                                     'exerciseangina_y', 'age', 'cholesterol', 'restingbp', \n",
    "                                     'sex_m', 'chestpaintype_ata', 'chestpaintype_nap', \n",
    "                                     'chestpaintype_ta', 'restingecg_normal', \n",
    "                                     'restingecg_st', 'fastingbs'])\n",
    "\n",
    "# Convert to NumPy array, ensure correct shape\n",
    "sample_input_array = np.array(sample_input, dtype=np.float64).reshape(1, -1)\n",
    "\n",
    "# Make a prediction\n",
    "prediction = model.predict(sample_input_array)\n",
    "prediction_proba = model.predict_proba(sample_input_array)\n",
    "\n",
    "print(f\"Prediction: {prediction[0]}\")  # 0 = No Heart Disease, 1 = Heart Disease\n",
    "print(f\"Probability: {prediction_proba[0]}\")\n"
   ]
  },
  {
   "cell_type": "code",
   "execution_count": 77,
   "id": "a9c35237-1b34-4f57-b63d-20862e383320",
   "metadata": {},
   "outputs": [
    {
     "name": "stdout",
     "output_type": "stream",
     "text": [
      "Columns in Training Data:\n",
      "['age', 'restingbp', 'cholesterol', 'fastingbs', 'maxhr', 'oldpeak', 'heartdisease', 'sex_m', 'chestpaintype_ata', 'chestpaintype_nap', 'chestpaintype_ta', 'restingecg_normal', 'restingecg_st', 'exerciseangina_y', 'st_slope_flat', 'st_slope_up']\n"
     ]
    }
   ],
   "source": [
    "print(\"Columns in Training Data:\")\n",
    "print(df_cleaned.columns.tolist())\n"
   ]
  }
 ],
 "metadata": {
  "kernelspec": {
   "display_name": "Python 3 (ipykernel)",
   "language": "python",
   "name": "python3"
  },
  "language_info": {
   "codemirror_mode": {
    "name": "ipython",
    "version": 3
   },
   "file_extension": ".py",
   "mimetype": "text/x-python",
   "name": "python",
   "nbconvert_exporter": "python",
   "pygments_lexer": "ipython3",
   "version": "3.12.4"
  }
 },
 "nbformat": 4,
 "nbformat_minor": 5
}
